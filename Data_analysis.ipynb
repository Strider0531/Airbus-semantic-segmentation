{
 "cells": [
  {
   "cell_type": "code",
   "execution_count": null,
   "outputs": [],
   "source": [
    "import numpy as np\n",
    "import pandas as pd\n",
    "import matplotlib.pyplot as plt\n",
    "import cv2\n",
    "import os"
   ],
   "metadata": {
    "collapsed": false,
    "pycharm": {
     "name": "#%%\n"
    }
   }
  },
  {
   "cell_type": "markdown",
   "source": [
    "# Read dataset"
   ],
   "metadata": {
    "collapsed": false,
    "pycharm": {
     "name": "#%% md\n"
    }
   }
  },
  {
   "cell_type": "code",
   "execution_count": null,
   "outputs": [],
   "source": [
    "segmentations = pd.read_csv(os.path.join('data', 'train_ship_segmentations_v2.csv'))\n",
    "segmentations['EncodedPixels'] = segmentations['EncodedPixels'].astype('string')"
   ],
   "metadata": {
    "collapsed": false,
    "pycharm": {
     "name": "#%%\n"
    }
   }
  },
  {
   "cell_type": "markdown",
   "source": [
    "# Data Description\n",
    "\n",
    "EncodedPixels - a list of pixels for ship segmentation in a compressed format (in run-length encoding format).\n",
    "EncodedPixels сonsists of pairs of values that contain a start position and a run length. E.g. '1 3' implies starting a pixel 1 and running a total of 3 pixels (1,2,3).\n",
    "The pixels are one-indexed and numbered from top to bottom, then left to right: 1 is pixel (1,1), 2 is pixel (2,1), etc.\n",
    "A prediction of \"no ship in image\" have a blank value in the EncodedPixels column.\n",
    "Object segments do not overlap."
   ],
   "metadata": {
    "collapsed": false,
    "pycharm": {
     "name": "#%% md\n"
    }
   }
  },
  {
   "cell_type": "markdown",
   "source": [
    "# Feature Extraction\n",
    "\n",
    "Let's add new features:\n",
    "\n",
    "1. ImageHeight - image height\n",
    "2. ImageWidth - image weight\n",
    "3. ShipAreaPercentage - percentage of the ship segmentation area in the image. Measured as a percentage, from 0 to 100%"
   ],
   "metadata": {
    "collapsed": false,
    "pycharm": {
     "name": "#%% md\n"
    }
   }
  },
  {
   "cell_type": "code",
   "execution_count": null,
   "outputs": [],
   "source": [
    "def get_train_image(name: str):\n",
    "    path = 'train_v2/{name}'\n",
    "    return cv2.imread(path)\n",
    "\n",
    "def extract_features_from_image(row: pd.Series) -> pd.Series:\n",
    "    image = np.zeros((768, 768, 3))# get_train_image(row['ImageId'])\n",
    "    row['ImageHeight'], row['ImageWidth'], _ = image.shape\n",
    "    return row\n",
    "\n",
    "segmentations = segmentations.apply(lambda x: extract_features_from_image(x), axis=1)\n",
    "\n",
    "def pixels_number(encoded_pixels: str) -> int:\n",
    "    if pd.isna(encoded_pixels):\n",
    "        return 0\n",
    "    return np.array(encoded_pixels.split()[1::2], dtype=int).sum()\n",
    "\n",
    "segmentations['ShipAreaPercentage'] = segmentations.apply(lambda x: pixels_number(x['EncodedPixels']) / (x['ImageHeight'] * x['ImageWidth']) * 100, axis=1)"
   ],
   "metadata": {
    "collapsed": false,
    "pycharm": {
     "name": "#%%\n"
    }
   }
  },
  {
   "cell_type": "markdown",
   "source": [
    "# Exploring the data"
   ],
   "metadata": {
    "collapsed": false,
    "pycharm": {
     "name": "#%% md\n"
    }
   }
  },
  {
   "cell_type": "code",
   "execution_count": null,
   "outputs": [],
   "source": [
    "print(f'There are {segmentations.shape[0]} rows.')\n",
    "segmentations.head(10)"
   ],
   "metadata": {
    "collapsed": false,
    "pycharm": {
     "name": "#%%\n"
    }
   }
  },
  {
   "cell_type": "code",
   "execution_count": null,
   "outputs": [],
   "source": [
    "train_images_number = segmentations['ImageId'].nunique()\n",
    "print(f'There are {train_images_number} train images.')"
   ],
   "metadata": {
    "collapsed": false,
    "pycharm": {
     "name": "#%%\n"
    }
   }
  },
  {
   "cell_type": "markdown",
   "source": [
    "# Image resolution"
   ],
   "metadata": {
    "collapsed": false,
    "pycharm": {
     "name": "#%% md\n"
    }
   }
  },
  {
   "cell_type": "code",
   "execution_count": null,
   "outputs": [],
   "source": [
    "print(segmentations['ImageHeight'].value_counts())\n",
    "print(segmentations['ImageWidth'].value_counts())"
   ],
   "metadata": {
    "collapsed": false,
    "pycharm": {
     "name": "#%%\n"
    }
   }
  },
  {
   "cell_type": "markdown",
   "source": [],
   "metadata": {
    "collapsed": false,
    "pycharm": {
     "name": "#%% md\n"
    }
   }
  },
  {
   "cell_type": "markdown",
   "source": [
    "# Distribution of the number of ships in images"
   ],
   "metadata": {
    "collapsed": false,
    "pycharm": {
     "name": "#%% md\n"
    }
   }
  },
  {
   "cell_type": "code",
   "execution_count": null,
   "outputs": [],
   "source": [
    "images_without_ships = segmentations['EncodedPixels'].isna().sum()\n",
    "print(f'There are {images_without_ships} images without ships.')"
   ],
   "metadata": {
    "collapsed": false,
    "pycharm": {
     "name": "#%%\n"
    }
   }
  },
  {
   "cell_type": "code",
   "execution_count": null,
   "outputs": [],
   "source": [
    "segmentations['ShipCount'] = segmentations.apply(lambda x: 0 if pd.isna(x['EncodedPixels']) else 1, axis=1)\n",
    "ships_numbers = segmentations[['ImageId','ShipCount']].groupby(['ImageId']).sum()\n",
    "print(ships_numbers.value_counts())\n",
    "\n",
    "f,ax=plt.subplots(1, 2,figsize=(20,10))\n",
    "\n",
    "ships_numbers.hist(bins = 15, ax=ax[0])\n",
    "\n",
    "y = ships_numbers.value_counts().values\n",
    "percent = 100.*y/y.sum()\n",
    "labels = ['{0} - {1:1.2f} %'.format(i,j) for i,j in zip(ships_numbers.value_counts().index.get_level_values(0), percent)]\n",
    "ships_numbers.value_counts().plot.pie(labels=None, ax=ax[1])\n",
    "ax[1].legend(labels, bbox_to_anchor=(1., 1.), fontsize=14)\n",
    "ax[1].yaxis.set_visible(False)\n",
    "ax[1].set_title('Distribution number of ships')\n",
    "\n",
    "plt.show()"
   ],
   "metadata": {
    "collapsed": false,
    "pycharm": {
     "name": "#%%\n"
    }
   }
  },
  {
   "cell_type": "markdown",
   "source": [
    "We can see that almost 78% of images don't have any ships. Only 14% have one ship. And on the remaining 8 of the images there are from 2 to 15 ships."
   ],
   "metadata": {
    "collapsed": false,
    "pycharm": {
     "name": "#%% md\n"
    }
   }
  },
  {
   "cell_type": "markdown",
   "source": [
    "# Ship segmentation area distribution"
   ],
   "metadata": {
    "collapsed": false,
    "pycharm": {
     "name": "#%% md\n"
    }
   }
  },
  {
   "cell_type": "code",
   "execution_count": null,
   "outputs": [],
   "source": [
    "f,ax=plt.subplots(1, 2,figsize=(30,10))\n",
    "\n",
    "segmentations['ShipAreaPercentage'].hist(bins=20, ax=ax[0])\n",
    "segmentations['ShipAreaPercentage'].plot.box(ax=ax[1])\n",
    "ax[1].set_ylabel('Ship Area Percentage')\n",
    "ax[1].set_xlabel('')"
   ],
   "metadata": {
    "collapsed": false,
    "pycharm": {
     "name": "#%%\n"
    }
   }
  },
  {
   "cell_type": "markdown",
   "source": [
    "All ships are very small in the images. Ships occupy no more than 4% of the image. Most of the ships take up less than 0.1% of the image."
   ],
   "metadata": {
    "collapsed": false,
    "pycharm": {
     "name": "#%% md\n"
    }
   }
  },
  {
   "cell_type": "markdown",
   "source": [
    "# Analysis result\n",
    "First, we can notice that all the ship segment labels in the training dataset are bounding boxes (rectangles). Moreoverthe ships in the images have a slightly different shape from a rectangular one.\n",
    "It was found that most of the images (~78%) do not contain ships. All the ships in the images take up a very small part (less than 0.5%), the pictures contain a lot of background. Also, target segmentation for labeled pictures consists of bounding boxes (rectangles).\n"
   ],
   "metadata": {
    "collapsed": false,
    "pycharm": {
     "name": "#%% md\n"
    }
   }
  }
 ],
 "metadata": {
  "kernelspec": {
   "display_name": "Python 3",
   "language": "python",
   "name": "python3"
  },
  "language_info": {
   "codemirror_mode": {
    "name": "ipython",
    "version": 2
   },
   "file_extension": ".py",
   "mimetype": "text/x-python",
   "name": "python",
   "nbconvert_exporter": "python",
   "pygments_lexer": "ipython2",
   "version": "2.7.6"
  }
 },
 "nbformat": 4,
 "nbformat_minor": 0
}